{
 "cells": [
  {
   "cell_type": "markdown",
   "metadata": {},
   "source": [
    "<p align=\"left\">\n",
    "<img src=\"https://raw.githubusercontent.com/dewdotninja/exams/main/feng_heading_en.png\" width=400 alt=\"Feng heading\"/>\n",
    "</p>\n",
    "\n",
    "#### Homework 1 : \n",
    "<p />01205479 Internet of Things for Electrial Engineering\n",
    "<p />Academic year 2022. First semester.\n"
   ]
  },
  {
   "cell_type": "code",
   "execution_count": 1,
   "metadata": {},
   "outputs": [],
   "source": [
    "# import libraries you want to use\n",
    "import numpy as np\n",
    "import matplotlib.pyplot as plt"
   ]
  },
  {
   "cell_type": "markdown",
   "metadata": {},
   "source": [
    "***\n",
    "### List of Homework problems (total 10 points)\n",
    "\n",
    "* [P1. (5 points)](#p1)\n",
    "* [P2. (5 points)](#p2)\n"
   ]
  },
  {
   "cell_type": "markdown",
   "metadata": {},
   "source": [
    "<a id=\"p1\"></a>\n",
    "#### P1. (5 points)\n",
    "Figure 1 shows two MCUs with different supply voltages share a common input. Let the internal pull-up resistor for\n",
    "MCU A equal $1000 \\,\\Omega$, and MCU B equal $2000 \\,\\Omega$\n",
    "<p align=\"center\">\n",
    "<img src=\"https://drive.google.com/uc?id=1LOk7DQItga8zAJYe-9cfVRJlyGLuxmTd\" width=550 alt=\"Figure 2\"/>\n",
    "</p>\n",
    "<div align=\"center\"><b>Figure 1 Two MCUs share a common input</b></div>\n",
    "<ol>\n",
    "<li />First assume no external pull-up resistor $R_X$. With SW1 open, compute the voltage $V_L$. (2 points) \n",
    "<li />Suppose that the maximum input voltage MCU B can tolerate is 3.5 volts. \n",
    "if $V_L$ computed from 1) exeeds 3.5 volts, choose $V_{CC}$ from either +5 or +3.3 volts to be used as pull-up voltage for $R_X$ and then \n",
    "compute $R_X$ to achieve $V_L = 3.5$ volts. Verify your result. (3 points)\n",
    "</ol>\n",
    "\n",
    "#### Solution"
   ]
  },
  {
   "cell_type": "code",
   "execution_count": 2,
   "metadata": {},
   "outputs": [],
   "source": [
    "# internal resistor values\n",
    "Ra = 1000\n",
    "Rb = 2000"
   ]
  },
  {
   "cell_type": "code",
   "execution_count": 3,
   "metadata": {},
   "outputs": [
    {
     "name": "stdout",
     "output_type": "stream",
     "text": [
      "Vl = 4.433333333333334Volts\n"
     ]
    }
   ],
   "source": [
    "# 1. First assume no external pull-up resistor 𝑅x. With SW1 open, compute the voltage  𝑉l\n",
    "# Note from KVL  5 = i*Ra + i*Rb + 3.3\n",
    "# so first we need to find i\n",
    "i = (5-3.3)/(Ra + Rb)\n",
    "# then, \n",
    "Vl = i*Rb + 3.3\n",
    "print(\"Vl = \"+str(Vl)+\"Volts\")\n"
   ]
  },
  {
   "cell_type": "code",
   "execution_count": 4,
   "metadata": {},
   "outputs": [],
   "source": [
    "# Since Vl> 3.5 volts, we must use external pullup\n",
    "# select Vcc = 3.3 volts (selecting Vcc = 5 volts will increage Vl!)\n",
    "Vcc = 3.3\n"
   ]
  },
  {
   "cell_type": "code",
   "execution_count": 7,
   "metadata": {},
   "outputs": [
    {
     "data": {
      "image/png": "[encoded data removed]",
      "text/plain": [
       "<Figure size 432x288 with 1 Axes>"
      ]
     },
     "metadata": {
      "needs_background": "light"
     },
     "output_type": "display_data"
    }
   ],
   "source": [
    "# 2. There is more than one way to do this part. For example, I can plot Vl v.s. Rx and choose the value that \n",
    "# gives Vl = 3.5\n",
    "Rx = np.arange(50,300) # create Rx as a vector \n",
    "# compute Vl the same way as before, with Rb replace by Rx in parallel with Rb\n",
    "Rx_p_Rb = Rx*Rb/(Rx+Rb)\n",
    "i = (5-3.3)/(Ra+Rx_p_Rb)\n",
    "Vl = i*Rx_p_Rb + 3.3\n",
    "plt.figure()\n",
    "plt.plot(Rx,Vl,'r-')\n",
    "plt.xlabel(\"$R_X (\\Omega)$\")\n",
    "plt.ylabel(\"$V_L (Volts)\")\n",
    "plt.grid(True)\n",
    "plt.show()"
   ]
  },
  {
   "cell_type": "markdown",
   "metadata": {},
   "source": [
    "From the plot, choose Rx < 140 Ohms"
   ]
  },
  {
   "cell_type": "code",
   "execution_count": 9,
   "metadata": {},
   "outputs": [
    {
     "name": "stdout",
     "output_type": "stream",
     "text": [
      "VL = 3.5 volts\n"
     ]
    }
   ],
   "source": [
    "# verify\n",
    "R_x = 140\n",
    "R_x_p_Rb = R_x*Rb/(R_x+Rb)\n",
    "il = (5-3.3)/(Ra+R_x_p_Rb)\n",
    "V_l = il*R_x_p_Rb + 3.3\n",
    "print(\"VL = \"+str(round(V_l,2))+\" volts\")"
   ]
  },
  {
   "cell_type": "code",
   "execution_count": null,
   "metadata": {},
   "outputs": [],
   "source": []
  },
  {
   "cell_type": "markdown",
   "metadata": {},
   "source": [
    "<a id=\"p2\"></a>\n",
    "#### P2. (5 points)\n",
    "\n",
    "Figure 2 shows a method to use force sensing resistor. Let $R_S = 10000$ Ohms. \n",
    "\n",
    "<p align=\"center\">\n",
    "<img src=\"https://drive.google.com/uc?id=1fPtZG4Q-8tUR4MA_JiQPnq4yLn56Xb00\" width=650 \n",
    "alt=\"Figure 6\"/>\n",
    "</p>\n",
    "<div align=\"center\"><b>Figure 2 converting force to voltage</b></div>\n",
    "<ol>\n",
    "<li />Use the force -resistance chart on the right to derive a straight line equation \n",
    "mapping between the force and ADC voltage. You can assume that the resistance of FSR is\n",
    "very high when force = 0 gram. (2 points)\n",
    "<li />Plot the line with x-axis = ADC voltage and y-axis = force (3 points)\n",
    "</ol>\n",
    "\n",
    "#### Solution"
   ]
  },
  {
   "cell_type": "markdown",
   "metadata": {},
   "source": [
    "1. Let's call FSR resitance $R_X$ and ADC voltage $V_S$\n",
    "From the chart, $R_X$ is very high when F = 0 gram. Can assume that $R_X$ acts like an open circuit; i.e., $V_S = 0$.\n",
    "$R_X = 1 K\\Omega$ at F = 1000 grams.\n",
    "\n",
    "\n",
    "So at $F = 0, V_S = 0$ (approximately) and at $F = 1000$ compute $V_S$"
   ]
  },
  {
   "cell_type": "code",
   "execution_count": 10,
   "metadata": {},
   "outputs": [
    {
     "data": {
      "text/plain": [
       "3.0"
      ]
     },
     "execution_count": 10,
     "metadata": {},
     "output_type": "execute_result"
    }
   ],
   "source": [
    "Rs = 10000\n",
    "Rx = 1000 # at F = 1000\n",
    "Vs = 3.3*Rs/(Rx+Rs)\n",
    "Vs"
   ]
  },
  {
   "cell_type": "markdown",
   "metadata": {},
   "source": [
    "Compute slope $m$ of a staight line $F = mV_S$ with x-axis = $V_S$ and y-axis = F."
   ]
  },
  {
   "cell_type": "code",
   "execution_count": 11,
   "metadata": {},
   "outputs": [
    {
     "data": {
      "text/plain": [
       "333.3333333333333"
      ]
     },
     "execution_count": 11,
     "metadata": {},
     "output_type": "execute_result"
    }
   ],
   "source": [
    "m = 1000/3\n",
    "m"
   ]
  },
  {
   "cell_type": "code",
   "execution_count": 12,
   "metadata": {},
   "outputs": [
    {
     "data": {
      "image/png": "[encoded data removed]",
      "text/plain": [
       "<Figure size 432x288 with 1 Axes>"
      ]
     },
     "metadata": {
      "needs_background": "light"
     },
     "output_type": "display_data"
    }
   ],
   "source": [
    "#2. plot the straingt line\n",
    "vsvec = np.arange(0,3.3,0.01)  # ADC range\n",
    "fvec = m*vsvec\n",
    "plt.figure()\n",
    "plt.plot(vsvec, fvec,'r-')\n",
    "plt.xlabel('ADC voltage (volts)')\n",
    "plt.ylabel('Force (grams)')\n",
    "plt.grid(True)\n",
    "plt.show()"
   ]
  },
  {
   "cell_type": "code",
   "execution_count": null,
   "metadata": {},
   "outputs": [],
   "source": []
  },
  {
   "cell_type": "markdown",
   "metadata": {},
   "source": [
    "##### Rev. 1A : August 2022"
   ]
  }
 ],
 "metadata": {
  "kernelspec": {
   "display_name": "Python 3.9 (tensorflow)",
   "language": "python",
   "name": "tensorflow"
  },
  "language_info": {
   "codemirror_mode": {
    "name": "ipython",
    "version": 3
   },
   "file_extension": ".py",
   "mimetype": "text/x-python",
   "name": "python",
   "nbconvert_exporter": "python",
   "pygments_lexer": "ipython3",
   "version": "3.9.13"
  }
 },
 "nbformat": 4,
 "nbformat_minor": 4
}
