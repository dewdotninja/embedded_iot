{
 "cells": [
  {
   "cell_type": "markdown",
   "metadata": {},
   "source": [
    "<p align=\"left\">\n",
    "<img src=\"https://raw.githubusercontent.com/dewdotninja/exams/main/feng_heading_en.png\" width=400 alt=\"Feng heading\"/>\n",
    "</p>\n",
    "\n",
    "## Homework 5 : \n",
    "<p />01205479 Internet of Things for Electrial Engineering\n",
    "<p />Academic year 2022. First semester.\n"
   ]
  },
  {
   "cell_type": "markdown",
   "metadata": {},
   "source": [
    "<a href=\"https://colab.research.google.com/github/dewdotninja/embedded_iot/blob/master/y2022/EEIoT22/HWs/EEIoT22_hw5.ipynb\" target=\"_parent\"><img src=\"https://colab.research.google.com/assets/colab-badge.svg\" alt=\"Open In Colab\"/></a>"
   ]
  },
  {
   "cell_type": "code",
   "execution_count": null,
   "metadata": {},
   "outputs": [],
   "source": [
    "# For colab user, install additional libraries\n",
    "!pip install control"
   ]
  },
  {
   "cell_type": "code",
   "execution_count": 1,
   "metadata": {},
   "outputs": [],
   "source": [
    "# import libraries you want to use\n",
    "import numpy as np\n",
    "import matplotlib.pyplot as plt\n",
    "import control as ctl"
   ]
  },
  {
   "cell_type": "markdown",
   "metadata": {},
   "source": [
    "***\n",
    "### List of Homework problems (total 10 points)\n",
    "\n",
    "* [P1. (10 points)](#p1)\n"
   ]
  },
  {
   "cell_type": "markdown",
   "metadata": {},
   "source": [
    "<a id=\"p1\"></a>\n",
    "#### P1. (10 points)\n",
    "\n",
    "In this homework assignment, you learn how to implement a discrete-time PID controller, and \n",
    "verify by simulation that the step response should match with that of the continuous-time. \n",
    "If that is the case, then you will have enough confidence to implement it on an embedded system.\n",
    "\n",
    "The plant used is the same 3rd-order lag that is constructed using op-amps and RC networks.\n",
    "\n",
    "$$\n",
    "P(s) = \\frac{1}{(s+1)^3}\n",
    "$$\n",
    "\n",
    "The PID controller has the following transfer function.\n",
    "\n",
    "$$\n",
    "C(s) = K_p + \\frac{K_i}{s} + \\frac{NK_d}{N/s+1}\n",
    "$$\n",
    "\n",
    "The feedback diagram is shown in Figure 1.\n",
    "\n",
    "<p align=\"center\">\n",
    "<img src=\"https://drive.google.com/uc?id=1wb4TYWleOeD6bRXm5VTWdRqbuRWfmiRv\" width=550 />\n",
    "</p>\n",
    "<div align=\"center\"><b>Figure 1 Basic closed-loop system with unity feedback</b></div>\n",
    "\n",
    "### Solution\n",
    "\n",
    "To help you get started, some of the code is provided for you below. Just fill in the \n",
    "missing code.\n",
    "\n",
    "The plant can be constructed as follows.\n"
   ]
  },
  {
   "cell_type": "code",
   "execution_count": 3,
   "metadata": {},
   "outputs": [
    {
     "data": {
      "text/latex": [
       "$$\\frac{1}{s^3 + 3 s^2 + 3 s + 1}$$"
      ],
      "text/plain": [
       "TransferFunction(array([1]), array([1, 3, 3, 1]))"
      ]
     },
     "execution_count": 3,
     "metadata": {},
     "output_type": "execute_result"
    }
   ],
   "source": [
    "# --- 3rd-order-lag plant -----\n",
    "s = ctl.tf(\"s\")\n",
    "P = 1/(s+1)**3\n",
    "P\n"
   ]
  },
  {
   "cell_type": "markdown",
   "metadata": {},
   "source": [
    "and the PID controller in continuous-time"
   ]
  },
  {
   "cell_type": "code",
   "execution_count": 10,
   "metadata": {},
   "outputs": [
    {
     "data": {
      "text/latex": [
       "$$\\frac{224.8 s^2 + 482.6 s + 260}{s^2 + 100 s}$$"
      ],
      "text/plain": [
       "TransferFunction(array([224.8, 482.6, 260. ]), array([  1, 100,   0]))"
      ]
     },
     "execution_count": 10,
     "metadata": {},
     "output_type": "execute_result"
    }
   ],
   "source": [
    "Kp = 4.8  # you can change PID parameters to your desired values\n",
    "Ki = 2.6  # as long as closed-loop system is stable\n",
    "Kd = 2.2 \n",
    "N = 100\n",
    "C = Kp + Ki/s + N*Kd*s/(N+s)\n",
    "C"
   ]
  },
  {
   "cell_type": "markdown",
   "metadata": {},
   "source": [
    "Run the following code to simulate step response in continuous-time. "
   ]
  },
  {
   "cell_type": "code",
   "execution_count": 11,
   "metadata": {},
   "outputs": [
    {
     "name": "stdout",
     "output_type": "stream",
     "text": [
      "0 states have been removed from the model\n"
     ]
    },
    {
     "data": {
      "image/png": "[encoded data removed]",
      "text/plain": [
       "<Figure size 432x288 with 1 Axes>"
      ]
     },
     "metadata": {
      "needs_background": "light"
     },
     "output_type": "display_data"
    }
   ],
   "source": [
    "tvec = np.arange(0,20,0.01)  # you can change time vector \n",
    "r = np.ones(tvec.shape)\n",
    "L = C*P\n",
    "T = ctl.minreal(ctl.feedback(L))\n",
    "tv, y = ctl.step_response(T, tvec)\n",
    "plt.figure()\n",
    "plt.plot(tv,r,'b',tv,y,'r-')\n",
    "plt.grid('True')\n",
    "plt.xlabel('time (sec)')\n",
    "plt.ylabel('output')\n",
    "\n",
    "plt.legend(['step ref.','y'])\n",
    "plt.show()\n"
   ]
  },
  {
   "cell_type": "markdown",
   "metadata": {},
   "source": [
    "Now, to implement the discrete-time simulation, first we need to discretize the plant. \n",
    "This is done for you in the cell below."
   ]
  },
  {
   "cell_type": "code",
   "execution_count": 12,
   "metadata": {},
   "outputs": [],
   "source": [
    "Ts = 0.01  # this can be changed, though too large sampling time may yield poor result.\n",
    "Pd = ctl.sample_system(P, Ts, method='tustin')\n",
    "Pdnum, Pdden = ctl.tfdata(Pd)\n",
    "#print(Pdnum)\n",
    "#print(Pdden)\n",
    "pdnum = np.squeeze(np.array(Pdnum))\n",
    "pdden = np.squeeze(np.array(Pdden))\n",
    "numorder = len(pdnum)  # 4 for this example\n",
    "denorder = len(pdden)  # 4\n",
    "y_prev = np.zeros((denorder,1)) \n",
    "u_prev = np.zeros((numorder,1))"
   ]
  },
  {
   "cell_type": "markdown",
   "metadata": {},
   "source": [
    "Your task is to implement PID function in the cell below."
   ]
  },
  {
   "cell_type": "code",
   "execution_count": 35,
   "metadata": {},
   "outputs": [],
   "source": [
    "# define global variables \n",
    "# your code here\n",
    "\n",
    "# PID controller function\n",
    "def PID_control(r,y): \n",
    "    # your code here\n"
   ]
  },
  {
   "cell_type": "markdown",
   "metadata": {},
   "source": [
    "and use the PID function in this simulation"
   ]
  },
  {
   "cell_type": "code",
   "execution_count": 36,
   "metadata": {},
   "outputs": [],
   "source": [
    "i = 0\n",
    "tvec = np.arange(0,20,Ts)\n",
    "rvec = np.ones(tvec.shape)  # use tvec defined above\n",
    "yvec = np.zeros(tvec.shape)\n",
    "uvec = np.zeros(tvec.shape)\n",
    "\n",
    "# reset plant & controller states\n",
    "y_prev = np.zeros((denorder,1)) \n",
    "u_prev = np.zeros((numorder,1))\n",
    "e_1 = 0\n",
    "u_i1 = 0\n",
    "u_d1 = 0\n",
    "u_p0 = 0\n",
    "u_i0 = 0\n",
    "u_d0 = 0\n",
    "u_0 = 0\n",
    "e_0 = 0\n",
    "\n",
    "\n",
    "# perform discrete-time simulation \n",
    "for i in range(len(tvec)):\n",
    "\n",
    "    for k in range(numorder-1):\n",
    "        u_prev[k] = u_prev[k+1]\n",
    "    for k in range(denorder-1):\n",
    "        y_prev[k] = y_prev[k+1]\n",
    "        \n",
    "\n",
    "    uvec[i] = PID_control(rvec[i],yvec[i-1])  # call your PID controller function above\n",
    "\n",
    "    u_prev[numorder-1] = uvec[i]        \n",
    "    yvec[i] = pdnum[0]*uvec[i]\n",
    "    for k in range(denorder-1):\n",
    "        yvec[i] = yvec[i]+pdnum[k+1]*u_prev[numorder-2-k] - pdden[k+1]*y_prev[denorder-2-k]\n",
    "        #print(pdnum[k+1])\n",
    "        #print(pdden[k+1])\n",
    "        #print()\n",
    "    y_prev[denorder-1] = yvec[i]"
   ]
  },
  {
   "cell_type": "markdown",
   "metadata": {},
   "source": [
    "If things work correctly, you should be able to plot a step-response comparison using the \n",
    "following code. The responses should match closely."
   ]
  },
  {
   "cell_type": "code",
   "execution_count": 37,
   "metadata": {},
   "outputs": [],
   "source": [
    "tv, yc = ctl.step_response(T, tvec)"
   ]
  },
  {
   "cell_type": "code",
   "execution_count": 38,
   "metadata": {},
   "outputs": [
    {
     "data": {
      "image/png": "[encoded data removed]",
      "text/plain": [
       "<Figure size 432x288 with 1 Axes>"
      ]
     },
     "metadata": {
      "needs_background": "light"
     },
     "output_type": "display_data"
    }
   ],
   "source": [
    "plt.figure()\n",
    "plt.plot(tvec,rvec,'r-',tvec, yvec,'b-',tv,yc,'m-.')\n",
    "plt.grid('True')\n",
    "plt.xlabel('time (sec)')\n",
    "plt.ylabel('y(t)')\n",
    "\n",
    "plt.legend(['step ref.','y (discrete)','y (continuous)'])\n",
    "plt.title(\"Plant output\")\n",
    "\n",
    "plt.show()"
   ]
  },
  {
   "cell_type": "code",
   "execution_count": null,
   "metadata": {},
   "outputs": [],
   "source": []
  },
  {
   "cell_type": "code",
   "execution_count": null,
   "metadata": {},
   "outputs": [],
   "source": []
  },
  {
   "cell_type": "code",
   "execution_count": null,
   "metadata": {},
   "outputs": [],
   "source": []
  },
  {
   "cell_type": "code",
   "execution_count": null,
   "metadata": {},
   "outputs": [],
   "source": []
  },
  {
   "cell_type": "code",
   "execution_count": null,
   "metadata": {},
   "outputs": [],
   "source": []
  },
  {
   "cell_type": "code",
   "execution_count": null,
   "metadata": {},
   "outputs": [],
   "source": []
  },
  {
   "cell_type": "markdown",
   "metadata": {},
   "source": [
    "##### Rev. 1A : September 2022"
   ]
  }
 ],
 "metadata": {
  "kernelspec": {
   "display_name": "Python 3.9 (tensorflow2)",
   "language": "python",
   "name": "tensorflow2"
  },
  "language_info": {
   "codemirror_mode": {
    "name": "ipython",
    "version": 3
   },
   "file_extension": ".py",
   "mimetype": "text/x-python",
   "name": "python",
   "nbconvert_exporter": "python",
   "pygments_lexer": "ipython3",
   "version": "3.9.13"
  }
 },
 "nbformat": 4,
 "nbformat_minor": 4
}
