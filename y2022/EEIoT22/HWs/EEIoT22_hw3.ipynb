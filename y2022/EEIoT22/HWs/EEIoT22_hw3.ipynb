{
 "cells": [
  {
   "cell_type": "markdown",
   "metadata": {},
   "source": [
    "<p align=\"left\">\n",
    "<img src=\"https://raw.githubusercontent.com/dewdotninja/exams/main/feng_heading_en.png\" width=400 alt=\"Feng heading\"/>\n",
    "</p>\n",
    "\n",
    "## Homework 3 : \n",
    "<p />01205479 Internet of Things for Electrial Engineering\n",
    "<p />Academic year 2022. First semester.\n"
   ]
  },
  {
   "cell_type": "markdown",
   "metadata": {},
   "source": [
    "<a href=\"https://colab.research.google.com/github/dewdotninja/embedded_iot/blob/master/y2022/EEIoT22/HWs/EEIoT22_hw3.ipynb\" target=\"_parent\"><img src=\"https://colab.research.google.com/assets/colab-badge.svg\" alt=\"Open In Colab\"/></a>"
   ]
  },
  {
   "cell_type": "code",
   "execution_count": null,
   "metadata": {},
   "outputs": [],
   "source": [
    "# For colab user, install additional libraries\n",
    "!pip install control"
   ]
  },
  {
   "cell_type": "code",
   "execution_count": 1,
   "metadata": {},
   "outputs": [],
   "source": [
    "# import libraries you want to use\n",
    "import numpy as np\n",
    "import matplotlib.pyplot as plt\n",
    "import control as ctl"
   ]
  },
  {
   "cell_type": "markdown",
   "metadata": {},
   "source": [
    "***\n",
    "### List of Homework problems (total 10 points)\n",
    "\n",
    "* [P1. (5 points)](#p1)\n",
    "* [P2. (5 points)](#p2)\n"
   ]
  },
  {
   "cell_type": "markdown",
   "metadata": {},
   "source": [
    "<a id=\"p1\"></a>\n",
    "#### P1. (5 points)\n",
    "For the differential amp in Figure 1, let $R_1 = 5000 \\;\\;\\Omega$ and $R_2 = 20000 \\;\\;\\Omega$. \n",
    "Use the equation provided in the figure to simulate\n",
    "the common-mode noise rejection. The simulation result must show input and output waveforms \n",
    "similar to those in Figure 1.\n",
    "\n",
    "You can use random noise or simply high frequency sinusoid. For the circuit to work, the noise \n",
    "signals for both inputs have to be in phase and the base signals 180-degree out of phase.\n",
    "<p align=\"center\">\n",
    "<img src=\"https://drive.google.com/uc?id=1NBmzKjuhu_fh8cg1kD7u_AZPYpMoDkLf\" width=650 \n",
    "alt=\"Figure 7\"/>\n",
    "</p>\n",
    "<div align=\"center\"><b>Figure 1 Differential amplifier</b></div>\n",
    "\n",
    "#### Solution\n"
   ]
  },
  {
   "cell_type": "code",
   "execution_count": null,
   "metadata": {},
   "outputs": [],
   "source": []
  },
  {
   "cell_type": "code",
   "execution_count": null,
   "metadata": {},
   "outputs": [],
   "source": []
  },
  {
   "cell_type": "code",
   "execution_count": null,
   "metadata": {},
   "outputs": [],
   "source": []
  },
  {
   "cell_type": "code",
   "execution_count": null,
   "metadata": {},
   "outputs": [],
   "source": []
  },
  {
   "cell_type": "code",
   "execution_count": null,
   "metadata": {},
   "outputs": [],
   "source": []
  },
  {
   "cell_type": "code",
   "execution_count": null,
   "metadata": {},
   "outputs": [],
   "source": []
  },
  {
   "cell_type": "markdown",
   "metadata": {},
   "source": [
    "<a id=\"p2\"></a>\n",
    "#### P2. (5 points)\n",
    "Write a Python function to solve an arbitrary level-shifter circuit in Figure 2\n",
    "\n",
    "<code>\n",
    "R1, R2, R3, R4, Vb = level_shifter_design(vi_min, vi_max, vo_min, vo_max)\n",
    "</code>\n",
    "\n",
    "<p />With a set of specified min/max of $V_{in}$ and $V_{out}$, the function must choose the resistors and $V_B$ and also \n",
    "plot the input and output ranges to verify that the design is correct. None of the resistor output should be negative. \n",
    "If R3 and R4 are not needed, R3 is set to zero and R4 to a high value such as $10 M\\Omega$.\n",
    "\n",
    "<p />Validate your design with a set of arbitrary arguments. No assumption that any of the input or output should have\n",
    "zero average.\n",
    "\n",
    "<p align=\"center\">\n",
    "<img src=\"https://drive.google.com/uc?id=1fxegfWgFB09ga8cr9FjcXIro8ilacajt\" width=450 \n",
    "alt=\"Figure 8\"/>\n",
    "</p>\n",
    "<div align=\"center\"><b>Figure 2 level shifter circuit</b></div>\n",
    "\n",
    "#### Solution\n"
   ]
  },
  {
   "cell_type": "code",
   "execution_count": null,
   "metadata": {},
   "outputs": [],
   "source": []
  },
  {
   "cell_type": "code",
   "execution_count": null,
   "metadata": {},
   "outputs": [],
   "source": []
  },
  {
   "cell_type": "code",
   "execution_count": null,
   "metadata": {},
   "outputs": [],
   "source": []
  },
  {
   "cell_type": "code",
   "execution_count": null,
   "metadata": {},
   "outputs": [],
   "source": []
  },
  {
   "cell_type": "code",
   "execution_count": null,
   "metadata": {},
   "outputs": [],
   "source": []
  },
  {
   "cell_type": "code",
   "execution_count": null,
   "metadata": {},
   "outputs": [],
   "source": []
  },
  {
   "cell_type": "code",
   "execution_count": null,
   "metadata": {},
   "outputs": [],
   "source": []
  },
  {
   "cell_type": "code",
   "execution_count": null,
   "metadata": {},
   "outputs": [],
   "source": []
  },
  {
   "cell_type": "markdown",
   "metadata": {},
   "source": [
    "##### Rev. 1A : August 2022"
   ]
  }
 ],
 "metadata": {
  "kernelspec": {
   "display_name": "Python 3.9 (tensorflow2)",
   "language": "python",
   "name": "tensorflow2"
  },
  "language_info": {
   "codemirror_mode": {
    "name": "ipython",
    "version": 3
   },
   "file_extension": ".py",
   "mimetype": "text/x-python",
   "name": "python",
   "nbconvert_exporter": "python",
   "pygments_lexer": "ipython3",
   "version": "3.9.13"
  }
 },
 "nbformat": 4,
 "nbformat_minor": 4
}
