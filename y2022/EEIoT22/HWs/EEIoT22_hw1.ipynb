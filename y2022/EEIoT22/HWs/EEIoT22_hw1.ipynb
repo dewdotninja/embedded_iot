{
 "cells": [
  {
   "cell_type": "markdown",
   "metadata": {},
   "source": [
    "<p align=\"left\">\n",
    "<img src=\"https://raw.githubusercontent.com/dewdotninja/exams/main/feng_heading_en.png\" width=400 alt=\"Feng heading\"/>\n",
    "</p>\n",
    "\n",
    "#### Homework 1 : \n",
    "<p />01205479 Internet of Things for Electrial Engineering\n",
    "<p />Academic year 2022. First semester.\n"
   ]
  },
  {
   "cell_type": "code",
   "execution_count": 2,
   "metadata": {},
   "outputs": [],
   "source": [
    "# import libraries you want to use\n",
    "import numpy as np\n",
    "import matplotlib.pyplot as plt"
   ]
  },
  {
   "cell_type": "markdown",
   "metadata": {},
   "source": [
    "***\n",
    "### List of Homework problems (total 10 points)\n",
    "\n",
    "* [P1. (5 points)](#p1)\n",
    "* [P2. (5 points)](#p2)\n"
   ]
  },
  {
   "cell_type": "markdown",
   "metadata": {},
   "source": [
    "<a id=\"p1\"></a>\n",
    "#### P1. (5 points)\n",
    "Figure 1 shows two MCUs with different supply voltages share a common input. Let the internal pull-up resistor for\n",
    "MCU A equal $1000 \\,\\Omega$, and MCU B equal $2000 \\,\\Omega$\n",
    "<p align=\"center\">\n",
    "<img src=\"https://drive.google.com/uc?id=1LOk7DQItga8zAJYe-9cfVRJlyGLuxmTd\" width=550 alt=\"Figure 2\"/>\n",
    "</p>\n",
    "<div align=\"center\"><b>Figure 1 Two MCUs share a common input</b></div>\n",
    "<ol>\n",
    "<li />First assume no external pull-up resistor $R_X$. With SW1 open, compute the voltage $V_L$. (2 points) \n",
    "<li />Suppose that the maximum input voltage MCU B can tolerate is 3.5 volts. \n",
    "if $V_L$ computed from 1) exeeds 3.5 volts, choose $V_{CC}$ from either +5 or +3.3 volts to be used as pull-up voltage for $R_X$ and then \n",
    "compute $R_X$ to achieve $V_L = 3.5$ volts. Verify your result. (3 points)\n",
    "</ol>"
   ]
  },
  {
   "cell_type": "code",
   "execution_count": null,
   "metadata": {},
   "outputs": [],
   "source": []
  },
  {
   "cell_type": "code",
   "execution_count": null,
   "metadata": {},
   "outputs": [],
   "source": []
  },
  {
   "cell_type": "code",
   "execution_count": null,
   "metadata": {},
   "outputs": [],
   "source": []
  },
  {
   "cell_type": "code",
   "execution_count": null,
   "metadata": {},
   "outputs": [],
   "source": []
  },
  {
   "cell_type": "code",
   "execution_count": null,
   "metadata": {},
   "outputs": [],
   "source": []
  },
  {
   "cell_type": "code",
   "execution_count": null,
   "metadata": {},
   "outputs": [],
   "source": []
  },
  {
   "cell_type": "code",
   "execution_count": null,
   "metadata": {},
   "outputs": [],
   "source": []
  },
  {
   "cell_type": "markdown",
   "metadata": {},
   "source": [
    "<a id=\"p2\"></a>\n",
    "#### P2. (5 points)\n",
    "\n",
    "Figure 2 shows a method to use force sensing resistor. Let $R_S = 10000$ Ohms. \n",
    "\n",
    "<p align=\"center\">\n",
    "<img src=\"https://drive.google.com/uc?id=1fPtZG4Q-8tUR4MA_JiQPnq4yLn56Xb00\" width=650 \n",
    "alt=\"Figure 6\"/>\n",
    "</p>\n",
    "<div align=\"center\"><b>Figure 2 converting force to voltage</b></div>\n",
    "<ol>\n",
    "<li />Use the force -resistance chart on the right to derive a straight line equation \n",
    "mapping between the force and ADC voltage. You can assume that the resistance of FSR is\n",
    "very high when force = 0 gram. (2 points)\n",
    "<li />Plot the line with x-axis = ADC voltage and y-axis = force (3 points)\n",
    "</ol>\n"
   ]
  },
  {
   "cell_type": "code",
   "execution_count": null,
   "metadata": {},
   "outputs": [],
   "source": []
  },
  {
   "cell_type": "code",
   "execution_count": null,
   "metadata": {},
   "outputs": [],
   "source": []
  },
  {
   "cell_type": "code",
   "execution_count": null,
   "metadata": {},
   "outputs": [],
   "source": []
  },
  {
   "cell_type": "code",
   "execution_count": null,
   "metadata": {},
   "outputs": [],
   "source": []
  },
  {
   "cell_type": "code",
   "execution_count": null,
   "metadata": {},
   "outputs": [],
   "source": []
  },
  {
   "cell_type": "code",
   "execution_count": null,
   "metadata": {},
   "outputs": [],
   "source": []
  },
  {
   "cell_type": "markdown",
   "metadata": {},
   "source": [
    "##### Rev. 1A : August 2022"
   ]
  }
 ],
 "metadata": {
  "kernelspec": {
   "display_name": "Python 3.8 (tensorflow2)",
   "language": "python",
   "name": "tensorflow2"
  },
  "language_info": {
   "codemirror_mode": {
    "name": "ipython",
    "version": 3
   },
   "file_extension": ".py",
   "mimetype": "text/x-python",
   "name": "python",
   "nbconvert_exporter": "python",
   "pygments_lexer": "ipython3",
   "version": "3.8.13"
  }
 },
 "nbformat": 4,
 "nbformat_minor": 4
}
