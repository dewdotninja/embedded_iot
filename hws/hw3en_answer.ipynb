{
 "cells": [
  {
   "cell_type": "markdown",
   "metadata": {
    "id": "CGomT1BpwlPF"
   },
   "source": [
    "<div align=\"right\">Revision 1A : February 2022</div>\n",
    "<div align=\"left\">Embedded Systems & IoT courses\n",
    "<br>Instructor : Dr.Varodom Toochinda\n",
    "<br>Dept. of Mechanical Engineering, Kasetsart University\n",
    "</div>    "
   ]
  },
  {
   "cell_type": "markdown",
   "metadata": {
    "id": "QoIp16vqwlPI"
   },
   "source": [
    "<a href=\"https://colab.research.google.com/github/dewdotninja/embedded_iot/blob/master/hws/hw3en_answer.ipynb\" target=\"_parent\"><img src=\"https://colab.research.google.com/assets/colab-badge.svg\" alt=\"Open In Colab\"/></a>"
   ]
  },
  {
   "cell_type": "markdown",
   "metadata": {
    "id": "vFjUcrkdwlPI"
   },
   "source": [
    "## HW # 3\n",
    "\n",
    "Referring to Lecture 4 slide \"Basic C programming with ESP8266 and Arduino IDE\", Exercise 3 asks you to blink 2 LEDs\n",
    "with different rates, for example, 0.1 Hz and 1 Hz. The purpose of this homework is to introduce you to multitask \n",
    "programming. There are libraries for you to use right away. One of them is \"task scheduler\". \n",
    "\n",
    "https://github.com/arkhipenko/TaskScheduler\n",
    "\n",
    "Study the readme file in the link above and use it to implement Exercise 3. Then copy and paste your code to the cell\n",
    "below. (Do not execute the code since C++ is not supported on the Jupyter notebook)"
   ]
  },
  {
   "cell_type": "markdown",
   "metadata": {
    "id": "EGvFU-wewlPQ"
   },
   "source": [
    "#### Solution"
   ]
  },
  {
   "cell_type": "code",
   "execution_count": null,
   "metadata": {
    "id": "d5X185rHwlPQ"
   },
   "outputs": [],
   "source": [
    "// Blink 2 LEDs with different rate using task scheduler\n",
    "\n",
    "#include <TaskScheduler.h>\n",
    "\n",
    "#define PERIOD1 1000\n",
    "#define PERIOD2 500\n",
    "#define LED1 D5\n",
    "\n",
    "void t1Callback();\n",
    "void t2Callback();\n",
    "\n",
    "// Scheduler\n",
    "Scheduler ts;\n",
    "\n",
    "Task t1(PERIOD1, TASK_FOREVER, &t1Callback);\n",
    "Task t2(PERIOD2, TASK_FOREVER, &t2Callback);\n",
    "\n",
    "void setup() {\n",
    "  pinMode(LED_BUILTIN, OUTPUT);\n",
    "  pinMode(LED1, OUTPUT);\n",
    "  ts.init();\n",
    "  ts.addTask(t1);\n",
    "  ts.addTask(t2);\n",
    "  t1.enable();\n",
    "  t2.enable();\n",
    "}\n",
    "\n",
    "void loop() {\n",
    "  ts.execute();\n",
    "\n",
    "}\n",
    "void t1Callback()  {\n",
    "  digitalWrite(LED_BUILTIN, !digitalRead(LED_BUILTIN));\n",
    "}\n",
    "\n",
    "void t2Callback()  {\n",
    "  digitalWrite(LED1, !digitalRead(LED1));\n",
    "}"
   ]
  }
 ],
 "metadata": {
  "colab": {
   "name": "hw3en_question.ipynb",
   "provenance": []
  },
  "kernelspec": {
   "display_name": "Python 3.7 (controlenv)",
   "language": "python",
   "name": "controlennv"
  },
  "language_info": {
   "codemirror_mode": {
    "name": "ipython",
    "version": 3
   },
   "file_extension": ".py",
   "mimetype": "text/x-python",
   "name": "python",
   "nbconvert_exporter": "python",
   "pygments_lexer": "ipython3",
   "version": "3.7.9"
  }
 },
 "nbformat": 4,
 "nbformat_minor": 1
}
