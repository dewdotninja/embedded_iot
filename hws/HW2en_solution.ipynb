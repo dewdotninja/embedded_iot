{
 "cells": [
  {
   "cell_type": "markdown",
   "metadata": {},
   "source": [
    "<div align=\"right\">Revision 1A : January 2021</div>\n",
    "<div align=\"left\">Embedded Systems & IoT courses\n",
    "<br>Instructor : Dr.Varodom Toochinda\n",
    "<br>Dept. of Mechanical Engineering, Kasetsart University\n",
    "</div>    "
   ]
  },
  {
   "cell_type": "markdown",
   "metadata": {},
   "source": [
    "<a href=\"https://colab.research.google.com/github/dewdotninja/embedded_iot/blob/master/hws/HW2en_question.ipynb\" target=\"_parent\"><img src=\"https://colab.research.google.com/assets/colab-badge.svg\" alt=\"Open In Colab\"/></a>"
   ]
  },
  {
   "cell_type": "code",
   "execution_count": null,
   "metadata": {},
   "outputs": [],
   "source": [
    "# For colab user, install additional libraries\n",
    "!pip install slycot\n",
    "!pip install control"
   ]
  },
  {
   "cell_type": "code",
   "execution_count": 1,
   "metadata": {},
   "outputs": [],
   "source": [
    "# You can import the libraries here or elsewhere in this notebook.\n",
    "import numpy as np\n",
    "import matplotlib.pyplot as plt\n",
    "import control as ctl"
   ]
  },
  {
   "cell_type": "markdown",
   "metadata": {},
   "source": [
    "## HW#2\n",
    "\n",
    "<b>2.1</b>\n",
    "<ul>\n",
    "<li />Design a passive LPF with cutoff frequency = 5 Hz (31.43 rad/s) using RC circuit as in Figure 2.1. \n",
    "<li />Plot frequency response (Bode plot) to verify the cutoff frequency.\n",
    "</ul>\n",
    "<p align=\"center\">\n",
    "<img src=\"https://drive.google.com/uc?id=1mW_6IREpdA-AWzwoKimafdWf-RYNm9Iq\" alt=\"Figure 2.1\"/>\n",
    "</p>\n",
    "<div align=\"center\"><b>Figure 2.1 a passive LPF using RC circuit</b></div>\n"
   ]
  },
  {
   "cell_type": "markdown",
   "metadata": {},
   "source": [
    "### Solution"
   ]
  },
  {
   "cell_type": "code",
   "execution_count": 3,
   "metadata": {},
   "outputs": [
    {
     "data": {
      "text/plain": [
       "31.41592653589793"
      ]
     },
     "execution_count": 3,
     "metadata": {},
     "output_type": "execute_result"
    }
   ],
   "source": [
    "# define cutoff frequency\n",
    "f = 5\n",
    "om = 2*np.pi*f\n",
    "om"
   ]
  },
  {
   "cell_type": "markdown",
   "metadata": {},
   "source": [
    "Select R, C values from\n",
    "$$\n",
    "\\Omega_o = \\frac{1}{RC} = 31.4 \n",
    "$$"
   ]
  },
  {
   "cell_type": "code",
   "execution_count": 7,
   "metadata": {},
   "outputs": [
    {
     "data": {
      "text/plain": [
       "31830.988618379073"
      ]
     },
     "execution_count": 7,
     "metadata": {},
     "output_type": "execute_result"
    }
   ],
   "source": [
    "# For example, choose C = 1 uF. Compute R\n",
    "C = 1e-6\n",
    "R = 1/(om*C)\n",
    "R"
   ]
  },
  {
   "cell_type": "markdown",
   "metadata": {},
   "source": [
    "So choose C = $1 \\mu F$, R = $31830 \\Omega$. (In practice, may choose closest value in the market, say, $32 K\\Omega$)\n",
    "\n",
    "Plot Bode frequency response to verify the cutoff frequency."
   ]
  },
  {
   "cell_type": "code",
   "execution_count": 9,
   "metadata": {},
   "outputs": [
    {
     "data": {
      "image/png": "[encoded data removed]",
      "text/plain": [
       "<Figure size 432x288 with 2 Axes>"
      ]
     },
     "metadata": {
      "needs_background": "light"
     },
     "output_type": "display_data"
    }
   ],
   "source": [
    "R = 32000 # choose available resistor in the market\n",
    "# Form transfer function\n",
    "num = 1\n",
    "den = [R*C, 1]\n",
    "H = ctl.tf(num,den)\n",
    "mag, ph, om = ctl.bode_plot(H, dB = True,omega_limits=[10,100])"
   ]
  },
  {
   "cell_type": "markdown",
   "metadata": {},
   "source": [
    "It can be seen that the magnitude drops to -3 dB at frequency around 30 rad/s. "
   ]
  },
  {
   "cell_type": "code",
   "execution_count": null,
   "metadata": {},
   "outputs": [],
   "source": []
  },
  {
   "cell_type": "markdown",
   "metadata": {},
   "source": [
    "<b>2.2</b>"
   ]
  },
  {
   "cell_type": "markdown",
   "metadata": {},
   "source": [
    "<p align=\"center\">\n",
    "<img src=\"https://drive.google.com/uc?id=1UAN5YaNO73tCqpjesO90FUdkwUYR4Aa5\" width=700 alt=\"Figure 2.2\"/>\n",
    "</p>\n",
    "<ul>\n",
    "<li />Verify the design by generating a $\\pm$ 0.5 volt sinusoid wave input. The output should swing within 0 - 3 volts.\n",
    "Plot both input and output waveforms.\n",
    "</ul>"
   ]
  },
  {
   "cell_type": "markdown",
   "metadata": {},
   "source": [
    "### Solution"
   ]
  },
  {
   "cell_type": "markdown",
   "metadata": {},
   "source": [
    "The output of level shifter is dictated by the following equation\n",
    "$$\n",
    "V_{out} = \\Big(\\frac{R_4}{R_3+R_4}\\Big)\\Big(1+\\frac{R_2}{R_1}\\Big)V_{in} - \\Big(\\frac{R_2}{R_1}\\Big)V_B\n",
    "$$\n",
    "<div align=\"right\">(1)</div>\n",
    "with mapping\n",
    "\n",
    "\n",
    "| Input | Output |\n",
    "| --- | --- |\n",
    "| 0.5 V | 3 V |\n",
    "| 0 V | 1.5 V |\n",
    "| -0.5V | 0 V |\n",
    "\n",
    "But notice that for this problem, the input range is smaller than the output range, so the voltage divider at the input is \n",
    "not needed; i.e., we can safely get rid of $R_3$ and $R_4$. (1) reduces to\n",
    "\n",
    "$$\n",
    "V_{out} = \\Big(1+\\frac{R_2}{R_1}\\Big)V_{in} - \\Big(\\frac{R_2}{R_1}\\Big)V_B\n",
    "$$\n",
    "<div align=\"right\">(2)</div>\n",
    "\n",
    "Let's begin with $V_{in} = 0$. From (2) we have\n",
    "$$\n",
    "V_{out} = -\\Big(\\frac{R_2}{R_1}\\Big)V_B = 1.5\n",
    "$$\n",
    "\n",
    "This yields \n",
    "\n",
    "$$\n",
    "\\frac{R_2}{R_1} = -\\frac{1.5}{V_B}\n",
    "$$\n",
    "<div align=\"right\">(3)</div>"
   ]
  },
  {
   "cell_type": "markdown",
   "metadata": {},
   "source": [
    "Substitue (3) to (2) and use, say, row 1 of the mapping to get\n",
    "$$\n",
    "3 = 0.5\\Big(1 - \\frac{1.5}{V_B}\\Big) + 1.5\n",
    "$$\n",
    "<div align=\"right\">(4)</div>"
   ]
  },
  {
   "cell_type": "markdown",
   "metadata": {},
   "source": [
    "Hence, $V_B$ = -0.75 Volts. Substitute back to (3) yields $R_2 = 2R_1$.\n",
    "\n",
    "Choose $R_1 = 10 K\\,\\Omega$, $R_2 = 20 K\\,\\Omega$ This design is verified by the plot below\n"
   ]
  },
  {
   "cell_type": "code",
   "execution_count": 6,
   "metadata": {},
   "outputs": [],
   "source": [
    "Vb = -0.75\n",
    "R1 = 10000;\n",
    "R2 = 20000;\n",
    "\n",
    "tvec = np.arange(0,1,0.01)\n",
    "om = 10\n",
    "Vin = 0.5*np.sin(om*tvec)\n",
    "Vout = (1+R2/R1)*Vin - (R2/R1)*Vb #(2)"
   ]
  },
  {
   "cell_type": "code",
   "execution_count": 18,
   "metadata": {},
   "outputs": [
    {
     "data": {
      "image/png": "[encoded data removed]",
      "text/plain": [
       "<Figure size 432x288 with 2 Axes>"
      ]
     },
     "metadata": {
      "needs_background": "light"
     },
     "output_type": "display_data"
    }
   ],
   "source": [
    "fig, (ax1, ax2) = plt.subplots(2)\n",
    "fig.suptitle('Level shifter example')\n",
    "ax1.plot(tvec,Vin,'b-')\n",
    "ax1.grid(True)\n",
    "ax1.set_ylabel('$V_{in}(t)$')\n",
    "ax2.plot(tvec,Vout,'r-')\n",
    "ax2.set_xlabel('time (s)')\n",
    "ax2.set_ylabel('$V_{out}(t)$')\n",
    "ax2.grid(True)\n"
   ]
  },
  {
   "cell_type": "code",
   "execution_count": 19,
   "metadata": {},
   "outputs": [
    {
     "data": {
      "text/plain": [
       "2.9993604045622577"
      ]
     },
     "execution_count": 19,
     "metadata": {},
     "output_type": "execute_result"
    }
   ],
   "source": [
    "max(Vout)"
   ]
  },
  {
   "cell_type": "code",
   "execution_count": 20,
   "metadata": {},
   "outputs": [
    {
     "data": {
      "text/plain": [
       "0.00011511365384864192"
      ]
     },
     "execution_count": 20,
     "metadata": {},
     "output_type": "execute_result"
    }
   ],
   "source": [
    "min(Vout)"
   ]
  },
  {
   "cell_type": "code",
   "execution_count": null,
   "metadata": {},
   "outputs": [],
   "source": []
  },
  {
   "cell_type": "code",
   "execution_count": null,
   "metadata": {},
   "outputs": [],
   "source": []
  }
 ],
 "metadata": {
  "kernelspec": {
   "display_name": "Python 3.7 (controlenv)",
   "language": "python",
   "name": "controlenv"
  },
  "language_info": {
   "codemirror_mode": {
    "name": "ipython",
    "version": 3
   },
   "file_extension": ".py",
   "mimetype": "text/x-python",
   "name": "python",
   "nbconvert_exporter": "python",
   "pygments_lexer": "ipython3",
   "version": "3.7.9"
  }
 },
 "nbformat": 4,
 "nbformat_minor": 4
}
