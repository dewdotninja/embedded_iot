{
 "cells": [
  {
   "cell_type": "markdown",
   "metadata": {},
   "source": [
    "## HW#1: Find current and voltage at diode by load-line and numerical methods\n",
    "<img src=\"https://drive.google.com/uc?id=11Vy3Hho7zkzrDqoKTiw_PUj48shXkLjL\" />\n",
    "<br>i-v characteristic of diode\n",
    "\n",
    "$$i_D = I_{SAT}\\Bigg(exp\\Bigg(\\frac{v_D}{kT/q}\\Bigg)-1\\Bigg)$$\n",
    "\n",
    "at room temperature $I_{SAT} = 10^{-12} A, \\frac{kT}{q} = 0.0259\\; V$\n",
    "\n",
    "Given $R_T = 22 \\;\\Omega, V_T = 12 \\;V$\n",
    "\n"
   ]
  },
  {
   "cell_type": "markdown",
   "metadata": {},
   "source": [
    "### 1. Load-line method\n",
    "<img src=\"https://drive.google.com/uc?id=1B6diClIx-YoBa2C6yAZOTfUukRu9X3Q4\" width=450 />\n",
    "\n",
    "<img src=\"https://drive.google.com/uc?id=1PWsOlnJX_QYl3dALzUBOl7icb9usSczw\" width=450 />\n"
   ]
  },
  {
   "cell_type": "code",
   "execution_count": 1,
   "metadata": {},
   "outputs": [],
   "source": [
    "import numpy as np\n",
    "import matplotlib.pyplot as plt"
   ]
  },
  {
   "cell_type": "code",
   "execution_count": 2,
   "metadata": {},
   "outputs": [],
   "source": [
    "I_sat = 1e-12\n",
    "kt_q = 0.0259\n",
    "R_T = 22\n",
    "V_T = 12"
   ]
  },
  {
   "cell_type": "code",
   "execution_count": 3,
   "metadata": {},
   "outputs": [],
   "source": [
    "v_vec = np.arange(0,0.75,0.01)\n"
   ]
  },
  {
   "cell_type": "code",
   "execution_count": 4,
   "metadata": {},
   "outputs": [],
   "source": [
    "i_X = -(1/R_T)*v_vec + V_T/R_T"
   ]
  },
  {
   "cell_type": "code",
   "execution_count": 5,
   "metadata": {},
   "outputs": [],
   "source": [
    "i_D = I_sat*(np.exp(v_vec/kt_q)-1)"
   ]
  },
  {
   "cell_type": "code",
   "execution_count": 6,
   "metadata": {},
   "outputs": [
    {
     "data": {
      "text/plain": [
       "<matplotlib.legend.Legend at 0x7fc929a09e50>"
      ]
     },
     "execution_count": 6,
     "metadata": {},
     "output_type": "execute_result"
    },
    {
     "data": {
      "image/png": "[encoded data removed]",
      "text/plain": [
       "<Figure size 432x288 with 1 Axes>"
      ]
     },
     "metadata": {
      "needs_background": "light"
     },
     "output_type": "display_data"
    }
   ],
   "source": [
    "plt.figure()\n",
    "plt.plot(v_vec,i_X)\n",
    "plt.plot(v_vec,i_D)\n",
    "plt.xlabel(\"Volts\")\n",
    "plt.ylabel(\"Amps\")\n",
    "plt.grid(True)\n",
    "plt.legend([\"load-line\",\"diode\"])"
   ]
  },
  {
   "cell_type": "code",
   "execution_count": null,
   "metadata": {},
   "outputs": [],
   "source": []
  },
  {
   "cell_type": "code",
   "execution_count": null,
   "metadata": {},
   "outputs": [],
   "source": []
  },
  {
   "cell_type": "code",
   "execution_count": null,
   "metadata": {},
   "outputs": [],
   "source": []
  },
  {
   "cell_type": "code",
   "execution_count": null,
   "metadata": {},
   "outputs": [],
   "source": []
  },
  {
   "cell_type": "code",
   "execution_count": null,
   "metadata": {},
   "outputs": [],
   "source": []
  },
  {
   "cell_type": "code",
   "execution_count": null,
   "metadata": {},
   "outputs": [],
   "source": []
  },
  {
   "cell_type": "markdown",
   "metadata": {},
   "source": [
    "### 2.Numeriacl method\n",
    "\n",
    "<p />Write a program according to this flowchart\n",
    "<img src=\"https://drive.google.com/uc?id=1FXyx7jBZWRUGFgueOXJjihJYnjsAkhkd\" width=550 />"
   ]
  },
  {
   "cell_type": "code",
   "execution_count": null,
   "metadata": {},
   "outputs": [],
   "source": [
    "import numpy as np"
   ]
  },
  {
   "cell_type": "code",
   "execution_count": 7,
   "metadata": {},
   "outputs": [],
   "source": [
    "I_sat = 1e-12\n",
    "kt_q = 0.0259\n",
    "R_T = 22\n",
    "V_T = 12\n",
    "v_D1 = V_T/2\n",
    "v_D2 = V_T"
   ]
  },
  {
   "cell_type": "code",
   "execution_count": 8,
   "metadata": {},
   "outputs": [],
   "source": [
    "# initialize i_D1, i_D2 to any unequal numbers\n",
    "i_D1 = 1\n",
    "i_D2 = 2"
   ]
  },
  {
   "cell_type": "code",
   "execution_count": null,
   "metadata": {},
   "outputs": [],
   "source": [
    "# Bad code that loops forever\n",
    "while i_D1 != i_D2:\n",
    "    i_D1 = (V_T - v_D1)/R_T\n",
    "    i_D2 = I_sat*(np.exp(v_D1/kt_q)-1)\n",
    "    if i_D1 > i_D2:\n",
    "        v_D1 = v_D1 + 0.5*(v_D2 - v_D1)\n",
    "    elif i_D2> i_D1:\n",
    "        v_D2 = v_D1\n",
    "        v_D1 = 0.5*v_D1\n",
    "print(\"id = {}\".format(i_D1))\n",
    "print(\"vd = {}\".format(v_D2))"
   ]
  },
  {
   "cell_type": "code",
   "execution_count": 10,
   "metadata": {},
   "outputs": [
    {
     "name": "stdout",
     "output_type": "stream",
     "text": [
      "id = 0.5137094761468344\n",
      "vd = 0.6983915247696434\n"
     ]
    }
   ],
   "source": [
    "# how to solve it\n",
    "while abs(i_D1 - i_D2)>1e-6:\n",
    "    i_D1 = (V_T - v_D1)/R_T\n",
    "    i_D2 = I_sat*(np.exp(v_D1/kt_q)-1)\n",
    "    if i_D1 > i_D2:\n",
    "        v_D1 = v_D1 + 0.5*(v_D2 - v_D1)\n",
    "    elif i_D2> i_D1:\n",
    "        v_D2 = v_D1\n",
    "        v_D1 = 0.5*v_D1\n",
    "    \n",
    "print(\"id = {}\".format(i_D1))\n",
    "print(\"vd = {}\".format(v_D2))"
   ]
  },
  {
   "cell_type": "code",
   "execution_count": null,
   "metadata": {},
   "outputs": [],
   "source": []
  },
  {
   "cell_type": "code",
   "execution_count": null,
   "metadata": {},
   "outputs": [],
   "source": []
  },
  {
   "cell_type": "code",
   "execution_count": null,
   "metadata": {},
   "outputs": [],
   "source": []
  },
  {
   "cell_type": "code",
   "execution_count": null,
   "metadata": {},
   "outputs": [],
   "source": []
  },
  {
   "cell_type": "code",
   "execution_count": null,
   "metadata": {},
   "outputs": [],
   "source": []
  },
  {
   "cell_type": "code",
   "execution_count": null,
   "metadata": {},
   "outputs": [],
   "source": []
  }
 ],
 "metadata": {
  "kernelspec": {
   "display_name": "Python 3.7 (controlenv)",
   "language": "python",
   "name": "controlenv"
  },
  "language_info": {
   "codemirror_mode": {
    "name": "ipython",
    "version": 3
   },
   "file_extension": ".py",
   "mimetype": "text/x-python",
   "name": "python",
   "nbconvert_exporter": "python",
   "pygments_lexer": "ipython3",
   "version": "3.7.9"
  }
 },
 "nbformat": 4,
 "nbformat_minor": 4
}
