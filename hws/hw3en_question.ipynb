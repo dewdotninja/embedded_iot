{
 "cells": [
  {
   "cell_type": "markdown",
   "metadata": {
    "id": "CGomT1BpwlPF"
   },
   "source": [
    "<div align=\"right\">Revision 1A : February 2022</div>\n",
    "<div align=\"left\">Embedded Systems & IoT courses\n",
    "<br>Instructor : Dr.Varodom Toochinda\n",
    "<br>Dept. of Mechanical Engineering, Kasetsart University\n",
    "</div>    "
   ]
  },
  {
   "cell_type": "markdown",
   "metadata": {
    "id": "QoIp16vqwlPI"
   },
   "source": [
    "<a href=\"https://colab.research.google.com/github/dewdotninja/embedded_iot/blob/master/hws/hw3en_question.ipynb\" target=\"_parent\"><img src=\"https://colab.research.google.com/assets/colab-badge.svg\" alt=\"Open In Colab\"/></a>"
   ]
  },
  {
   "cell_type": "markdown",
   "metadata": {
    "id": "vFjUcrkdwlPI"
   },
   "source": [
    "## HW # 3\n",
    "\n",
    "Referring to Lecture 4 slide \"Basic C programming with ESP8266 and Arduino IDE\", Exercise 3 asks you to blink 2 LEDs\n",
    "with different rates, for example, 0.1 Hz and 1 Hz. The purpose of this homework is to introduce you to multitask \n",
    "programming. There are libraries for you to use right away. One of them is \"task scheduler\". \n",
    "\n",
    "https://github.com/arkhipenko/TaskScheduler\n",
    "\n",
    "Study the readme file in the link above and use it to implement Exercise 3. Then copy and paste your code to the cell\n",
    "below. (Do not execute the code since C++ is not supported on the Jupyter notebook)"
   ]
  },
  {
   "cell_type": "code",
   "execution_count": null,
   "metadata": {
    "id": "EGvFU-wewlPQ"
   },
   "outputs": [],
   "source": []
  },
  {
   "cell_type": "code",
   "execution_count": null,
   "metadata": {
    "id": "d5X185rHwlPQ"
   },
   "outputs": [],
   "source": []
  }
 ],
 "metadata": {
  "colab": {
   "name": "hw3en_question.ipynb",
   "provenance": []
  },
  "kernelspec": {
   "display_name": "Python 3.7 (controlenv)",
   "language": "python",
   "name": "controlennv"
  },
  "language_info": {
   "codemirror_mode": {
    "name": "ipython",
    "version": 3
   },
   "file_extension": ".py",
   "mimetype": "text/x-python",
   "name": "python",
   "nbconvert_exporter": "python",
   "pygments_lexer": "ipython3",
   "version": "3.7.9"
  }
 },
 "nbformat": 4,
 "nbformat_minor": 1
}
