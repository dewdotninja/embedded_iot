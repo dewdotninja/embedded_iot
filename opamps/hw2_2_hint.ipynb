{
 "cells": [
  {
   "cell_type": "markdown",
   "metadata": {},
   "source": [
    "<a href=\"https://colab.research.google.com/github/dewdotninja/embedded_iot/blob/master/opamps/hw2_2_hint.ipynb\" target=\"_parent\"><img src=\"https://colab.research.google.com/assets/colab-badge.svg\" alt=\"Open In Colab\"/></a>"
   ]
  },
  {
   "cell_type": "markdown",
   "metadata": {},
   "source": [
    "<h3>Signal Conditioning using Op Amp Example</h3>\n",
    "<p />Suppose we want to design a level shifter circuit shown in Figure 1, \n",
    "as a frontend for a DC motor drive. The\n",
    "input to this circuit has voltage range $\\pm 10$ volts, and the output has range 0 - 3.3 volts \n",
    "suitable to feed into an ADC input of MCU.\n",
    "So the mapping is\n",
    "\n",
    "| Input | Output |\n",
    "| --- | --- |\n",
    "| 10 V | 3.3 V |\n",
    "| 0 V | 1.65 V |\n",
    "| -10V | 0 V |\n"
   ]
  },
  {
   "cell_type": "markdown",
   "metadata": {},
   "source": [
    "<p align=\"center\">\n",
    "<img src=\"https://drive.google.com/uc?id=1U2A6_okGC3cUB3zxq253pss62-169tVh\" width=600 alt=\"Figure 1\"/>\n",
    "</p>\n",
    "<div align=\"center\"><b>Figure 1 Level shifter circuit</b></div>\n",
    "<p />Our job is to select the values for $R_1 – R_4$, and $V_B$ appropriately. "
   ]
  },
  {
   "cell_type": "markdown",
   "metadata": {},
   "source": [
    "<h3>Solution</h3>\n",
    "<p />The superposition principle is used in the design. Let $V_{in} = 0$ for the moment. We\n",
    "want to create the 1.65 V DC bias that the AC command signal will ride on. This can be done by\n",
    "selecting \n",
    "$$\n",
    "R1 = R2 \n",
    "$$\n",
    "and \n",
    "$$\n",
    "V_B = -1.65 V\n",
    "$$\n",
    "Now, we want to make the AC output part of the op-amp\n",
    "swing within $\\pm 1.65$ V range. Observe that with $V_B = 0, R1 = R2$ yields the non-inverting \n",
    "gain of 2. So the signal at non-inverting pin must equal $\\pm 0.825$ V. Using the voltage divider \n",
    "formula, we have\n",
    "\n",
    "$$\n",
    "\\frac{R_4}{R_3 + R_4}(10) = 0.825\n",
    "$$\n",
    "\n",
    "Hence,\n",
    "\n",
    "$$\n",
    "R_3 = 11.12R_4\n",
    "$$\n",
    "\n",
    "<p />Verify your design in the cell below."
   ]
  },
  {
   "cell_type": "code",
   "execution_count": null,
   "metadata": {},
   "outputs": [],
   "source": []
  },
  {
   "cell_type": "code",
   "execution_count": null,
   "metadata": {},
   "outputs": [],
   "source": []
  }
 ],
 "metadata": {
  "kernelspec": {
   "display_name": "Python 3.7 (controlenv)",
   "language": "python",
   "name": "controlenv"
  },
  "language_info": {
   "codemirror_mode": {
    "name": "ipython",
    "version": 3
   },
   "file_extension": ".py",
   "mimetype": "text/x-python",
   "name": "python",
   "nbconvert_exporter": "python",
   "pygments_lexer": "ipython3",
   "version": "3.7.9"
  }
 },
 "nbformat": 4,
 "nbformat_minor": 4
}
