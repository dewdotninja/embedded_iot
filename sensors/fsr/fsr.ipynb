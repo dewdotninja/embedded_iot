{
 "cells": [
  {
   "cell_type": "markdown",
   "metadata": {},
   "source": [
    "<a href=\"https://colab.research.google.com/github/dewdotninja/embedded_iot/blob/master/sensors/fsr/fsr.ipynb\" target=\"_parent\"><img src=\"https://colab.research.google.com/assets/colab-badge.svg\" alt=\"Open In Colab\"/></a>"
   ]
  },
  {
   "cell_type": "markdown",
   "metadata": {},
   "source": [
    "## Force Sensing Resistors\n",
    "<p />Force Sensing Resistors (FSR) are a\n",
    "polymer thick film (PTF) device which\n",
    "exhibits a decrease in resistance with an\n",
    "increase in the force applied to the\n",
    "active surface. Its force sensitivity is\n",
    "optimized for use in human touch\n",
    "control of electronic devices. FSRs are\n",
    "not a load cell or strain gauge, though\n",
    "they have similar properties. FSRs are\n",
    "not suitable for precision measurements.\n",
    "\n",
    "<p align=\"center\">\n",
    "<img src=\"https://drive.google.com/uc?id=1SqjUqzlZzGRAC9eQabyWR1KSro5omn59\" width=300 alt=\"Figure 1\"/>\n",
    "</p>\n",
    "<div align=\"center\"><b>Figure 1 force resistive sensor 0.5\" </b></div>\n",
    "\n",
    "<h3>Force vs. Resistance</h3>\n",
    "<p />The force vs. resistance characteristic\n",
    "shown in Figure 2 provides an overview\n",
    "of FSR typical response behavior. For\n",
    "interpretational convenience, the force\n",
    "vs. resistance data is plotted on a log/log\n",
    "format.\n",
    "<p align=\"center\">\n",
    "<img src=\"https://drive.google.com/uc?id=13dWRbShWZroBDqtGHExArsTnPCgehGK6\" width=600 alt=\"Figure 2\"/>\n",
    "</p>\n"
   ]
  },
  {
   "cell_type": "markdown",
   "metadata": {},
   "source": [
    "<b>Example 1 : </b>Figure 2 shows a connection diagram of FSR with an ESP8266 board. A voltage divider circuit, formed by \n",
    "the sensor and a 10K$\\Omega$ resistor, is connected from 3.3 volts to GND. The middle node is then wired to analog input A0 \n",
    "of ESP8266. When some force is applied to the FSR, that causes its resistance to change, and hence the force is converted to \n",
    "voltage variation at A0 pin.\n",
    "<p align=\"center\">\n",
    "<img src=\"https://drive.google.com/uc?id=1JBLGvgpYadSj1FgAPpw7rITqn0iwlVfh\" width=500 alt=\"Figure 3\"/>\n",
    "</p>\n",
    "<div align=\"center\"><b>Figure 3 an example of FSR interface to ESP8266</b></div>\n",
    "<p />For precise usage, this circuit must be calibrated in some way. Here we only want to give a crude example, so the \n",
    "resistance v.s. force graph in Figure 2 is used.\n",
    "\n",
    "### To do : \n",
    "* Let's assume the force applied to the FSR ranges from 0 - 1 Kg. From the resistance vs. force in Figure 2, compute min and \n",
    "max voltage at A0\n",
    "* The ESP8266 has 10-bit ADC; i.e., the value ranges from 0 - 1023 corresponding to 0 - 3.3 Volts (neglecting voltage offset). \n",
    "Find a linear equation that maps ADC reading to the force exerted on the sensor.\n",
    "\n",
    "### Optional : \n",
    "* Build hardware setup as in Figure 3 and use serial monitor to verify the ADC readout.\n",
    "* Make a simple IoT applicaiton with a force gauge, and perhaps a feedview display.\n"
   ]
  },
  {
   "cell_type": "code",
   "execution_count": null,
   "metadata": {},
   "outputs": [],
   "source": []
  },
  {
   "cell_type": "code",
   "execution_count": null,
   "metadata": {},
   "outputs": [],
   "source": []
  },
  {
   "cell_type": "code",
   "execution_count": null,
   "metadata": {},
   "outputs": [],
   "source": []
  },
  {
   "cell_type": "markdown",
   "metadata": {},
   "source": [
    "<div align=\"right\">Last update : Jan 15, 2021</div>"
   ]
  },
  {
   "cell_type": "markdown",
   "metadata": {},
   "source": [
    "<p align=\"center\">\n",
    "<img src=\"https://drive.google.com/thumbnail?id=13bzT7Rmy3bzvE7TiS0yfQo94kpxMuipF\" alt=\"dewninja\"/>\n",
    "</p>\n",
    "<div align=\"center\">dew.ninja<br>Copyright 2021</div>"
   ]
  }
 ],
 "metadata": {
  "kernelspec": {
   "display_name": "Python 3.7 (controlenv)",
   "language": "python",
   "name": "controlenv"
  },
  "language_info": {
   "codemirror_mode": {
    "name": "ipython",
    "version": 3
   },
   "file_extension": ".py",
   "mimetype": "text/x-python",
   "name": "python",
   "nbconvert_exporter": "python",
   "pygments_lexer": "ipython3",
   "version": "3.7.9"
  }
 },
 "nbformat": 4,
 "nbformat_minor": 4
}
