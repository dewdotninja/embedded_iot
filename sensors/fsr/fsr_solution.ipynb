{
 "cells": [
  {
   "cell_type": "markdown",
   "metadata": {},
   "source": [
    "<a href=\"https://colab.research.google.com/github/dewdotninja/embedded_iot/blob/master/sensors/fsr/fsr_solution.ipynb\" target=\"_parent\"><img src=\"https://colab.research.google.com/assets/colab-badge.svg\" alt=\"Open In Colab\"/></a>"
   ]
  },
  {
   "cell_type": "markdown",
   "metadata": {},
   "source": [
    "## Force Sensing Resistors\n",
    "<p />Force Sensing Resistors (FSR) are a\n",
    "polymer thick film (PTF) device which\n",
    "exhibits a decrease in resistance with an\n",
    "increase in the force applied to the\n",
    "active surface. Its force sensitivity is\n",
    "optimized for use in human touch\n",
    "control of electronic devices. FSRs are\n",
    "not a load cell or strain gauge, though\n",
    "they have similar properties. FSRs are\n",
    "not suitable for precision measurements.\n",
    "\n",
    "<p align=\"center\">\n",
    "<img src=\"https://drive.google.com/uc?id=1SqjUqzlZzGRAC9eQabyWR1KSro5omn59\" width=300 alt=\"Figure 1\"/>\n",
    "</p>\n",
    "<div align=\"center\"><b>Figure 1 force resistive sensor 0.5\" </b></div>\n",
    "\n",
    "<h3>Force vs. Resistance</h3>\n",
    "<p />The force vs. resistance characteristic\n",
    "shown in Figure 2 provides an overview\n",
    "of FSR typical response behavior. For\n",
    "interpretational convenience, the force\n",
    "vs. resistance data is plotted on a log/log\n",
    "format.\n",
    "<p align=\"center\">\n",
    "<img src=\"https://drive.google.com/uc?id=13dWRbShWZroBDqtGHExArsTnPCgehGK6\" width=600 alt=\"Figure 2\"/>\n",
    "</p>\n"
   ]
  },
  {
   "cell_type": "markdown",
   "metadata": {},
   "source": [
    "<b>Example 1 : </b>Figure 3 shows a connection diagram of FSR with an ESP8266 board. A voltage divider circuit, formed by \n",
    "the sensor and a 10K$\\Omega$ resistor, is connected from 3.3 volts to GND. The middle node is then wired to analog input A0 \n",
    "of ESP8266. When some force is applied to the FSR, that causes its resistance to change, and hence the force is converted to \n",
    "voltage variation at A0 pin.\n",
    "<p align=\"center\">\n",
    "<img src=\"https://drive.google.com/uc?id=1JBLGvgpYadSj1FgAPpw7rITqn0iwlVfh\" width=500 alt=\"Figure 3\"/>\n",
    "</p>\n",
    "<div align=\"center\"><b>Figure 3 an example of FSR interface to ESP8266</b></div>\n",
    "<p />For precise usage, this circuit must be calibrated in some way. Here we only want to give a crude example, so the \n",
    "resistance v.s. force graph in Figure 2 is used.\n",
    "\n",
    "### To do : \n",
    "* Let's assume the force applied to the FSR ranges from 0 - 1 Kg. From the resistance vs. force in Figure 2, compute min and \n",
    "max voltage at A0\n",
    "* The ESP8266 has 10-bit ADC; i.e., the value ranges from 0 - 1023 corresponding to 0 - 3.3 Volts (neglecting voltage offset). \n",
    "Find a linear equation that maps ADC reading to the force exerted on the sensor.\n",
    "\n",
    "### Optional : \n",
    "* Build hardware setup as in Figure 3 and use serial monitor to verify the ADC readout.\n",
    "* Make a simple IoT applicaiton with a force gauge, and perhaps a feedview display.\n"
   ]
  },
  {
   "cell_type": "markdown",
   "metadata": {},
   "source": [
    "<h3>Solution</h3>\n",
    "<p />First import the libraries "
   ]
  },
  {
   "cell_type": "code",
   "execution_count": 12,
   "metadata": {},
   "outputs": [],
   "source": [
    "import numpy as np\n",
    "import matplotlib.pyplot as plt"
   ]
  },
  {
   "cell_type": "markdown",
   "metadata": {},
   "source": [
    "<p />Note that the information in Figure 2 is not adequate. With no force on the FSR, its resistance is not determined, though \n",
    "we can assume a very high value. In fact, from our experiment, the measured voltage with no force applied to FCR equals 3.3 volts.\n",
    "So we can use a large resistance, say, $3 M\\Omega$ to yield $V_s = 3.3$ volts."
   ]
  },
  {
   "cell_type": "code",
   "execution_count": 7,
   "metadata": {},
   "outputs": [
    {
     "name": "stdout",
     "output_type": "stream",
     "text": [
      "With no force, Vs =3.289036544850498\n"
     ]
    }
   ],
   "source": [
    "Vp = 3.3\n",
    "R1 = 10000\n",
    "Rs = 3000000\n",
    "Vs_max = (Rs/(R1+Rs))*Vp\n",
    "print(\"With no force, Vs =\"+str(Vs_max))"
   ]
  },
  {
   "cell_type": "markdown",
   "metadata": {},
   "source": [
    "With 1000 g force exerted on sensor, from Figure 2 the resistance of FSR drops to $1 K\\Omega$. Compute $V_s$"
   ]
  },
  {
   "cell_type": "code",
   "execution_count": 4,
   "metadata": {},
   "outputs": [
    {
     "name": "stdout",
     "output_type": "stream",
     "text": [
      "With 1000 g force, Vs =0.3\n"
     ]
    }
   ],
   "source": [
    "Rs = 1000\n",
    "Vs_min = (Rs/(R1+Rs))*Vp\n",
    "print(\"With 1000 g force, Vs =\"+str(Vs_min))"
   ]
  },
  {
   "cell_type": "markdown",
   "metadata": {},
   "source": [
    "So, with $V_s$ as x-axis ranging from 0.3 to 3.3 volts, we want a straight line graph that passes through two $(V_s,F_s)$ points \n",
    "$(0.3,1000)$ and $(3.3,0)$. The slope $m$ is computed as\n",
    "$$\n",
    "m = \\frac{0-1000}{3.3-0.3}\n",
    "$$"
   ]
  },
  {
   "cell_type": "code",
   "execution_count": 10,
   "metadata": {},
   "outputs": [
    {
     "name": "stdout",
     "output_type": "stream",
     "text": [
      "-333.3333333333333\n"
     ]
    }
   ],
   "source": [
    "m = -1000/(3.3-0.3)\n",
    "print(m)"
   ]
  },
  {
   "cell_type": "markdown",
   "metadata": {},
   "source": [
    "<p />So , considering the point $(V_s,F_s) = (3.3,0) $, the linear equation representing $F_s(V_s)$ can be derived as \n",
    "$F_s - 0 = m(V_s - 3.3 )$\n",
    "or\n",
    "$$\n",
    "F_s = -333.33V_s + 1100\n",
    "$$\n",
    "<p />Let's plot this equation to verify "
   ]
  },
  {
   "cell_type": "code",
   "execution_count": 17,
   "metadata": {},
   "outputs": [],
   "source": [
    "Vs = np.arange(0.3,3.4,0.1)  # np.arange(min, max, step)\n",
    "Fs = m*Vs + 1100"
   ]
  },
  {
   "cell_type": "code",
   "execution_count": 18,
   "metadata": {},
   "outputs": [
    {
     "data": {
      "image/png": "[encoded data removed]",
      "text/plain": [
       "<Figure size 432x288 with 1 Axes>"
      ]
     },
     "metadata": {
      "needs_background": "light"
     },
     "output_type": "display_data"
    }
   ],
   "source": [
    "plt.figure()\n",
    "plt.plot(Vs,Fs,'r-')\n",
    "plt.xlabel('$V_s : Volts$')\n",
    "plt.ylabel('$F_s(V_s)$')\n",
    "plt.grid(True)\n",
    "plt.title('Force vs. voltage across FSR')\n",
    "plt.show()\n"
   ]
  },
  {
   "cell_type": "code",
   "execution_count": null,
   "metadata": {},
   "outputs": [],
   "source": []
  },
  {
   "cell_type": "markdown",
   "metadata": {},
   "source": [
    "<div align=\"right\">Last update : Jan 15, 2021</div>"
   ]
  },
  {
   "cell_type": "markdown",
   "metadata": {},
   "source": [
    "<p align=\"center\">\n",
    "<img src=\"https://drive.google.com/thumbnail?id=13bzT7Rmy3bzvE7TiS0yfQo94kpxMuipF\" alt=\"dewninja\"/>\n",
    "</p>\n",
    "<div align=\"center\">dew.ninja<br>Copyright 2021</div>"
   ]
  }
 ],
 "metadata": {
  "kernelspec": {
   "display_name": "Python 3.7 (controlenv)",
   "language": "python",
   "name": "controlenv"
  },
  "language_info": {
   "codemirror_mode": {
    "name": "ipython",
    "version": 3
   },
   "file_extension": ".py",
   "mimetype": "text/x-python",
   "name": "python",
   "nbconvert_exporter": "python",
   "pygments_lexer": "ipython3",
   "version": "3.7.9"
  }
 },
 "nbformat": 4,
 "nbformat_minor": 4
}
